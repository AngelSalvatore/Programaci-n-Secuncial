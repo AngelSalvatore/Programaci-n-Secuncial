NoUno = int(input("Ingrese el primer número:"))
NoDos = int(input("Ingrese el segundo número"))

suma = NoUno + NoDos
resta = NoUno - NoDos
multiplicacion = NoUno * NoDos
division = NoUno / NoDos
residuo = NoUno % NoDos

print("Los resultados son:")
print("Suma: ", suma ,", resta ", resta ,", multiplicacion ", multiplicacion, ", division ", division, ", residuo ",residuo)
